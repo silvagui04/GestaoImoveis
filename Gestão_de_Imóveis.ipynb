{
  "nbformat": 4,
  "nbformat_minor": 0,
  "metadata": {
    "colab": {
      "provenance": [],
      "include_colab_link": true
    },
    "kernelspec": {
      "name": "python3",
      "display_name": "Python 3"
    },
    "language_info": {
      "name": "python"
    }
  },
  "cells": [
    {
      "cell_type": "markdown",
      "metadata": {
        "id": "view-in-github",
        "colab_type": "text"
      },
      "source": [
        "<a href=\"https://colab.research.google.com/github/silvagui04/GestaoImoveis/blob/main/Gest%C3%A3o_de_Im%C3%B3veis.ipynb\" target=\"_parent\"><img src=\"https://colab.research.google.com/assets/colab-badge.svg\" alt=\"Open In Colab\"/></a>"
      ]
    },
    {
      "cell_type": "markdown",
      "source": [
        "\n",
        "# Gestão de dados de imóveis\n",
        "\n",
        "---\n",
        "Gonçalo José Madureira Tavares,Guilherme Costa e Silva,João Miguel Sernadas Maia,Vasco Nogueira Azevedo\n",
        "\n",
        "# 12.03.25\n",
        "- **Dados dos clientes (NIF,Nome, email,telefone)**\n",
        "- **Dados dos Imóveis (nome, localizacao, Rua, tipo, certificacao_energetica, mobilidade_reduzida, data_construcao, tipo_construcao, despesas_construcao, latitude e longitude)**\n",
        "- **Ligação entre os dados dos clientes e os dados do imóveis**\n",
        "\n",
        "# 24.04.25 - Fim"
      ],
      "metadata": {
        "id": "qLLgxeeZ04Gl"
      }
    },
    {
      "cell_type": "markdown",
      "source": [
        "Método para adicionar os clientes e todos os seus campos que foram pedidos por parte do cliente.\n",
        "E também criação da estrutura da tabela para representar todos os dados recolhidos"
      ],
      "metadata": {
        "id": "3luX7-jZnsth"
      }
    },
    {
      "cell_type": "code",
      "source": [
        "class Cliente:\n",
        "    def __init__(self, nome, email, telefone, nif):\n",
        "        self.nome = nome\n",
        "        self.email = email\n",
        "        self.telefone = telefone\n",
        "        self.nif = nif  # Número de Identificação Fiscal\n",
        "        # Lista de casas atribuídas a este cliente\n",
        "        self.casas = []\n",
        "\n",
        "    def __repr__(self):\n",
        "        return (\n",
        "            f\"Cliente(nome={self.nome}, email={self.email}, telefone={self.telefone}, \"\n",
        "            f\"nif={self.nif}, casas={[casa['nome'] for casa in self.casas]})\"\n",
        "        )\n",
        "\n",
        "\n",
        "class SistemaClientes:\n",
        "    def __init__(self):\n",
        "        self.clientes = []\n",
        "\n",
        "    def adicionar_cliente(self, nome, email, telefone, nif):\n",
        "        # Verifica se o cliente já existe na lista (nome, email, telefone ou nif)\n",
        "        for cliente in self.clientes:\n",
        "            if (cliente.nome == nome or cliente.email == email\n",
        "                    or cliente.telefone == telefone or cliente.nif == nif):\n",
        "                print(\"Erro: Cliente com o mesmo nome, e-mail, telefone ou NIF já existe.\")\n",
        "                return\n",
        "\n",
        "        novo_cliente = Cliente(nome, email, telefone, nif)\n",
        "        self.clientes.append(novo_cliente)\n",
        "        print(f\"Cliente '{nome}' (NIF: {nif}) adicionado com sucesso!\")\n",
        "\n",
        "    def remover_cliente(self, nome):\n",
        "        for cliente in self.clientes:\n",
        "            if cliente.nome.lower() == nome.lower():\n",
        "                self.clientes.remove(cliente)\n",
        "                print(f\"Cliente '{nome}' removido com sucesso!\")\n",
        "                return\n",
        "        print(f\"Erro: Cliente '{nome}' não encontrado.\")\n",
        "\n",
        "    def atribuir_casa(self, nome_cliente, nome_casa, imobiliaria):\n",
        "        # Procura o cliente\n",
        "        cliente = next((c for c in self.clientes if c.nome.lower() == nome_cliente.lower()), None)\n",
        "        if not cliente:\n",
        "            print(f\"Erro: Cliente '{nome_cliente}' não encontrado.\")\n",
        "            return\n",
        "\n",
        "        # Procura casa no sistema imobiliário\n",
        "        casa = next((c for c in imobiliaria.casas if c['nome'].lower() == nome_casa.lower()), None)\n",
        "        if not casa:\n",
        "            print(f\"Erro: Casa '{nome_casa}' não encontrada no sistema imobiliário.\")\n",
        "            return\n",
        "\n",
        "        # Verifica se já foi atribuída\n",
        "        if casa in cliente.casas:\n",
        "            print(f\"Atenção: Cliente '{nome_cliente}' já tem a casa '{nome_casa}' atribuída.\")\n",
        "            return\n",
        "\n",
        "        cliente.casas.append(casa)\n",
        "        print(f\"Casa '{nome_casa}' atribuída ao cliente '{nome_cliente}' com sucesso!\")\n",
        "\n",
        "    def listar_clientes(self):\n",
        "        if not self.clientes:\n",
        "            print(\"Nenhum cliente registado.\")\n",
        "            return\n",
        "\n",
        "        print(\"\\nLista de Clientes:\")\n",
        "        print(\"+----------------------+----------------------+----------------------+-----------------+----------------------+ \")\n",
        "        print(\"| Nome                 | E-mail               | Telefone             | NIF             | Casas Atribuídas     | \")\n",
        "        print(\"+----------------------+----------------------+----------------------+-----------------+----------------------+ \")\n",
        "        for cliente in self.clientes:\n",
        "            casas_str = \", \".join([c['nome'] for c in cliente.casas]) or \"-\"\n",
        "            print(\n",
        "                f\"| {cliente.nome.ljust(20)} | {cliente.email.ljust(20)} | \"\n",
        "                f\"{cliente.telefone.ljust(20)} | {cliente.nif.ljust(15)} | {casas_str.ljust(20)} |\")\n",
        "        print(\"+----------------------+----------------------+----------------------+-----------------+----------------------+ \")"
      ],
      "metadata": {
        "id": "bH9UmEBZpQjS"
      },
      "execution_count": 46,
      "outputs": []
    },
    {
      "cell_type": "markdown",
      "source": [
        "Método para adicionar casas e todas as suas características e também eliminar as mesmas"
      ],
      "metadata": {
        "id": "HxGdDVUknhbl"
      }
    },
    {
      "cell_type": "code",
      "source": [
        "class Imobiliaria:\n",
        "    def __init__(self):\n",
        "        self.casas = []\n",
        "\n",
        "    def adicionar_casa(self, nome, localizacao, Rua, tipo,\n",
        "                       certificacao_energetica, mobilidade_reduzida,\n",
        "                       data_construcao, tipo_construcao,\n",
        "                       despesas_construcao, latitude, longitude):\n",
        "        for casa_existente in self.casas:\n",
        "            if casa_existente[\"nome\"] == nome:\n",
        "                print(\"Erro: Essa casa já existe.\")\n",
        "                return\n",
        "\n",
        "        casa = {\n",
        "            \"nome\": nome,\n",
        "            \"localizacao\": localizacao,\n",
        "            \"Rua\": Rua,\n",
        "            \"tipo\": tipo,\n",
        "            \"certificacao_energetica\": certificacao_energetica,\n",
        "            \"mobilidade_reduzida\": mobilidade_reduzida,\n",
        "            \"data_construcao\": data_construcao,\n",
        "            \"tipo_construcao\": tipo_construcao,\n",
        "            \"despesas_construcao\": despesas_construcao,\n",
        "            \"latitude\": latitude,\n",
        "            \"longitude\": longitude\n",
        "        }\n",
        "        self.casas.append(casa)\n",
        "        print(f\"Casa '{nome}' adicionada com sucesso!\")\n",
        "\n",
        "    def remover_casa(self, nome):\n",
        "        for casa in self.casas:\n",
        "            if casa[\"nome\"].lower() == nome.lower():\n",
        "                self.casas.remove(casa)\n",
        "                print(f\"Casa '{nome}' removida com sucesso!\")\n",
        "                return\n",
        "        print(f\"Erro: Casa '{nome}' não encontrada.\")\n",
        "\n",
        "    def listar_casas(self):\n",
        "        if not self.casas:\n",
        "            print(\"Nenhuma casa registada.\")\n",
        "            return\n",
        "        print(\"\\nLista de Casas:\")\n",
        "        print(\"=\" * 200)\n",
        "        print(\n",
        "            f\"{'Nome':<20}{'Localização':<20}{'Rua':<20}{'Tipo':<10}\"\n",
        "            f\"{'Cert. Energética':<20}{'Mobilidade Reduzida':<22}\"\n",
        "            f\"{'Data Construção':<18}{'Tipo Construção':<20}\"\n",
        "            f\"{'Despesas Construção':<22}{'Latitude':<12}{'Longitude':<12}\"\n",
        "        )\n",
        "        print(\"-\" * 200)\n",
        "        for casa in self.casas:\n",
        "            print(\n",
        "                f\"{casa['nome']:<20}{casa['localizacao']:<20}{casa['Rua']:<20}{casa['tipo']:<10}\"\n",
        "                f\"{casa['certificacao_energetica']:<20}{str(casa['mobilidade_reduzida']):<22}\"\n",
        "                f\"{casa['data_construcao']:<18}{casa['tipo_construcao']:<20}\"\n",
        "                f\"{str(casa['despesas_construcao']):<22}{str(casa['latitude']):<12}{str(casa['longitude']):<12}\"\n",
        "            )\n",
        "        print(\"=\" * 200)"
      ],
      "metadata": {
        "id": "w1DmWONjngfm"
      },
      "execution_count": 47,
      "outputs": []
    },
    {
      "cell_type": "markdown",
      "source": [
        "O bloca de código seguinte são os exemplos de uso com adicionar clientes, adicionar imoveis todos com teste de erros e atribuicao de clientes aos imovies."
      ],
      "metadata": {
        "id": "UuyybL7EbDLd"
      }
    },
    {
      "cell_type": "code",
      "source": [
        "# Exemplo de uso\n",
        "sistema = SistemaClientes()\n",
        "imobiliaria = Imobiliaria()\n",
        "\n",
        "# sistema.adicionar_cliente(nome, email, telefone)\n",
        "\n",
        "sistema.adicionar_cliente(\"João Silva\", \"joao@email.com\", \"999999999\", \"123456789\")\n",
        "sistema.adicionar_cliente(\"Maria Sousa\", \"maria@email.com\", \"888888888\", \"987654321\")\n",
        "sistema.adicionar_cliente(\"Pedro Santos\", \"pedro@email.com\", \"777777777\", \"111222333\")\n",
        "sistema.adicionar_cliente(\"Rui Silva\", \"rui@email.com\", \"666666666\", \"444555666\")\n",
        "sistema.adicionar_cliente(\"Sofia Costa\", \"Sofi@email.com\", \"555555555\", \"257337457\")\n",
        "\n",
        "\n",
        "\n",
        "\n",
        "\n",
        "#teste para aparecer o erro\n",
        "sistema.adicionar_cliente(\"João Silva\", \"joao@email.com\", \"999999999\", \"123456789\")\n",
        "sistema.adicionar_cliente(\"Maria Sousa\", \"maria@email.com\", \"888888888\", \"987654321\")\n",
        "\n",
        "\n",
        "imobiliaria.adicionar_casa(\"Casa do Lago\", \"Lisboa\",\"Rua do Sobreiro\", \"T3\", \"A+\", True, \"2005-06-15\",\"Madeira\",\"85000\", 38.7169, -9.1399)\n",
        "imobiliaria.adicionar_casa(\"Casa da Lagoa\", \"Porto\",\"Rua do Pinheiro\", \"T1\", \"B-\", False, \"2001-07-5\",\"Estrutura Metálica\",\"180000\", 38.7169, -9.1399)\n",
        "imobiliaria.adicionar_casa(\"Casa dos Gatos\", \"coimbra\",\"Rua das Arvores\", \"T2\", \"C+\", True, \"2020-12-1\",\"Container\",\"65300\", 38.7169, -9.1399)\n",
        "imobiliaria.adicionar_casa(\"Casa Azul\", \"coimbra\",\"Rua das Arvores\", \"T2\", \"C+\", True, \"2020-12-1\",\"Container\",\"65300\", 38.7169, -9.1399)\n",
        "\n",
        "\n",
        "#teste para aparecer o erro\n",
        "imobiliaria.adicionar_casa(\"Casa Azul\", \"coimbra\",\"Rua das Arvores\", \"T2\", \"C+\", True, \"2020-12-1\",\"Container\",\"65300\", 38.7169, -9.1399)\n",
        "imobiliaria.adicionar_casa(\"Casa do Lago\", \"Lisboa\", \"Rua do Sobreiro\", \"T3\",\"A+\", True, \"2005-06-15\", \"Madeira\", 85000, 38.7169, -9.1399)\n",
        "\n",
        "\n",
        "sistema.atribuir_casa(\"João Silva\", \"Casa do Lago\", imobiliaria)\n",
        "sistema.atribuir_casa(\"Maria Sousa\", \"Casa da Lagoa\", imobiliaria)\n",
        "sistema.atribuir_casa(\"Pedro Santos\", \"Casa dos Gatos\", imobiliaria)\n",
        "sistema.atribuir_casa(\"Rui Silva\", \"Casa Azul\", imobiliaria)\n"
      ],
      "metadata": {
        "colab": {
          "base_uri": "https://localhost:8080/"
        },
        "id": "lzCe8P7GbClp",
        "outputId": "7bc1a63f-a14d-4cce-d048-2cb633f7082b"
      },
      "execution_count": 48,
      "outputs": [
        {
          "output_type": "stream",
          "name": "stdout",
          "text": [
            "Cliente 'João Silva' (NIF: 123456789) adicionado com sucesso!\n",
            "Cliente 'Maria Sousa' (NIF: 987654321) adicionado com sucesso!\n",
            "Cliente 'Pedro Santos' (NIF: 111222333) adicionado com sucesso!\n",
            "Cliente 'Rui Silva' (NIF: 444555666) adicionado com sucesso!\n",
            "Cliente 'Sofia Costa' (NIF: 257337457) adicionado com sucesso!\n",
            "Erro: Cliente com o mesmo nome, e-mail, telefone ou NIF já existe.\n",
            "Erro: Cliente com o mesmo nome, e-mail, telefone ou NIF já existe.\n",
            "Casa 'Casa do Lago' adicionada com sucesso!\n",
            "Casa 'Casa da Lagoa' adicionada com sucesso!\n",
            "Casa 'Casa dos Gatos' adicionada com sucesso!\n",
            "Casa 'Casa Azul' adicionada com sucesso!\n",
            "Erro: Essa casa já existe.\n",
            "Erro: Essa casa já existe.\n",
            "Casa 'Casa do Lago' atribuída ao cliente 'João Silva' com sucesso!\n",
            "Casa 'Casa da Lagoa' atribuída ao cliente 'Maria Sousa' com sucesso!\n",
            "Casa 'Casa dos Gatos' atribuída ao cliente 'Pedro Santos' com sucesso!\n",
            "Casa 'Casa Azul' atribuída ao cliente 'Rui Silva' com sucesso!\n"
          ]
        }
      ]
    },
    {
      "cell_type": "markdown",
      "source": [
        "Tabela dos clientes, onde estão presentes todos os resultados pedidos"
      ],
      "metadata": {
        "id": "UxDb8jdfgE7A"
      }
    },
    {
      "cell_type": "code",
      "source": [
        "sistema.listar_clientes()"
      ],
      "metadata": {
        "colab": {
          "base_uri": "https://localhost:8080/"
        },
        "id": "Bnw0riqca8Vn",
        "outputId": "8a16a7c3-e62c-491b-be1f-81ffac6f7591"
      },
      "execution_count": 49,
      "outputs": [
        {
          "output_type": "stream",
          "name": "stdout",
          "text": [
            "\n",
            "Lista de Clientes:\n",
            "+----------------------+----------------------+----------------------+-----------------+----------------------+ \n",
            "| Nome                 | E-mail               | Telefone             | NIF             | Casas Atribuídas     | \n",
            "+----------------------+----------------------+----------------------+-----------------+----------------------+ \n",
            "| João Silva           | joao@email.com       | 999999999            | 123456789       | Casa do Lago         |\n",
            "| Maria Sousa          | maria@email.com      | 888888888            | 987654321       | Casa da Lagoa        |\n",
            "| Pedro Santos         | pedro@email.com      | 777777777            | 111222333       | Casa dos Gatos       |\n",
            "| Rui Silva            | rui@email.com        | 666666666            | 444555666       | Casa Azul            |\n",
            "| Sofia Costa          | Sofi@email.com       | 555555555            | 257337457       | -                    |\n",
            "+----------------------+----------------------+----------------------+-----------------+----------------------+ \n"
          ]
        }
      ]
    },
    {
      "cell_type": "markdown",
      "source": [
        "Remover Casa"
      ],
      "metadata": {
        "id": "p3lVl0OkdwjB"
      }
    },
    {
      "cell_type": "code",
      "source": [
        "#Correr apenas se quiser apagar a casa\n",
        "imobiliaria.remover_casa(\"Casa Azul\")\n",
        "imobiliaria.remover_casa(\"Casa Amarela\")"
      ],
      "metadata": {
        "colab": {
          "base_uri": "https://localhost:8080/"
        },
        "id": "zJZWycFqdxJ6",
        "outputId": "74d02a8a-bf32-4831-b4c2-274c810d9248"
      },
      "execution_count": 42,
      "outputs": [
        {
          "output_type": "stream",
          "name": "stdout",
          "text": [
            "Casa 'Casa Azul' removida com sucesso!\n",
            "Erro: Casa 'Casa Amarela' não encontrada.\n"
          ]
        }
      ]
    },
    {
      "cell_type": "markdown",
      "source": [
        "#Listar as Casas\n",
        "Com esta lista é possível ver todos os dados disponibilizados de cada casa"
      ],
      "metadata": {
        "id": "3-I7-FY5Io27"
      }
    },
    {
      "cell_type": "code",
      "source": [
        "imobiliaria.listar_casas()"
      ],
      "metadata": {
        "colab": {
          "base_uri": "https://localhost:8080/"
        },
        "id": "RHCHcn9C1KRE",
        "outputId": "2f07458e-2cbb-4b07-c014-4d4aa021f025"
      },
      "execution_count": 50,
      "outputs": [
        {
          "output_type": "stream",
          "name": "stdout",
          "text": [
            "\n",
            "Lista de Casas:\n",
            "========================================================================================================================================================================================================\n",
            "Nome                Localização         Rua                 Tipo      Cert. Energética    Mobilidade Reduzida   Data Construção   Tipo Construção     Despesas Construção   Latitude    Longitude   \n",
            "--------------------------------------------------------------------------------------------------------------------------------------------------------------------------------------------------------\n",
            "Casa do Lago        Lisboa              Rua do Sobreiro     T3        A+                  True                  2005-06-15        Madeira             85000                 38.7169     -9.1399     \n",
            "Casa da Lagoa       Porto               Rua do Pinheiro     T1        B-                  False                 2001-07-5         Estrutura Metálica  180000                38.7169     -9.1399     \n",
            "Casa dos Gatos      coimbra             Rua das Arvores     T2        C+                  True                  2020-12-1         Container           65300                 38.7169     -9.1399     \n",
            "Casa Azul           coimbra             Rua das Arvores     T2        C+                  True                  2020-12-1         Container           65300                 38.7169     -9.1399     \n",
            "========================================================================================================================================================================================================\n"
          ]
        }
      ]
    }
  ]
}